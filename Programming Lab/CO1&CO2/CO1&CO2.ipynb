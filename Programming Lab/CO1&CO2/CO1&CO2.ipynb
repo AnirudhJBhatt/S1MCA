{
  "nbformat": 4,
  "nbformat_minor": 0,
  "metadata": {
    "colab": {
      "provenance": [],
      "authorship_tag": "ABX9TyNYNV2tCVL25zf+PdfO27RL",
      "include_colab_link": true
    },
    "kernelspec": {
      "name": "python3",
      "display_name": "Python 3"
    },
    "language_info": {
      "name": "python"
    }
  },
  "cells": [
    {
      "cell_type": "markdown",
      "metadata": {
        "id": "view-in-github",
        "colab_type": "text"
      },
      "source": [
        "<a href=\"https://colab.research.google.com/github/AnirudhJBhatt/S1MCA/blob/master/CO1%26CO2.ipynb\" target=\"_parent\"><img src=\"https://colab.research.google.com/assets/colab-badge.svg\" alt=\"Open In Colab\"/></a>"
      ]
    },
    {
      "cell_type": "markdown",
      "source": [
        "CO1"
      ],
      "metadata": {
        "id": "wE6GRNBDO99r"
      }
    },
    {
      "cell_type": "markdown",
      "source": [
        "2. Display future leap years from current year to a final year entered by user."
      ],
      "metadata": {
        "id": "50Cuk2zNAUff"
      }
    },
    {
      "cell_type": "code",
      "source": [
        "cy=int(input(\"Enter the current year : \"))\n",
        "fy=int(input(\"Enter the ending year : \"))\n",
        "print(\"Leap years between\",cy,\"and\",fy,\"are : \",end=\" \")\n",
        "for  i in range(cy,fy):\n",
        "  if (i%400==0) and (i%100==0):\n",
        "    print(i)\n",
        "  elif (i%4==0) and (i%100!=0):\n",
        "    print(i,end=\" \")"
      ],
      "metadata": {
        "colab": {
          "base_uri": "https://localhost:8080/"
        },
        "id": "mQ50vwrUAVaf",
        "outputId": "553d7733-65e9-42e9-ff5f-15e67312bc12"
      },
      "execution_count": null,
      "outputs": [
        {
          "output_type": "stream",
          "name": "stdout",
          "text": [
            "Enter the current year : 2020\n",
            "Enter the ending year : 2030\n",
            "Leap years between 2020 and 2030 are :  2020 2024 2028 "
          ]
        }
      ]
    },
    {
      "cell_type": "markdown",
      "source": [
        "3. List comprehensions:\n",
        "(a) Generate positive list of numbers from a given list of integers\n",
        "(b) Square of N numbers\n",
        "(c) Form a list of vowels selected from a given word\n",
        "(d) List ordinal value of each element of a word (Hint: use ord() to get ordinal values)\n"
      ],
      "metadata": {
        "id": "bcO7FF6dvRn3"
      }
    },
    {
      "cell_type": "code",
      "source": [
        "l=[int(i) for i in input(\"Enter elements : \").split()]\n",
        "l_p=[i for i in l if i>=0]\n",
        "print(\"List of +ve numbers : \",l_p)"
      ],
      "metadata": {
        "colab": {
          "base_uri": "https://localhost:8080/"
        },
        "id": "Y79XWOTPMp0B",
        "outputId": "f48fae6b-e560-4d09-ab8c-fcd07a76da29"
      },
      "execution_count": null,
      "outputs": [
        {
          "output_type": "stream",
          "name": "stdout",
          "text": [
            "Enter elements : -5 -4 -3 -2 -1 0 1 2 3 4 5\n",
            "List of +ve numbers :  [0, 1, 2, 3, 4, 5]\n"
          ]
        }
      ]
    },
    {
      "cell_type": "code",
      "source": [
        "n=int(input(\"Enter no of terms : \"))\n",
        "sq_list=[i*i for i in range(n)]\n",
        "print(\"List of square of N numbers : \",sq_list)"
      ],
      "metadata": {
        "colab": {
          "base_uri": "https://localhost:8080/"
        },
        "id": "WQnIILkONQkx",
        "outputId": "2eb5e23b-c2c8-40a5-f2b1-e985e57728c2"
      },
      "execution_count": null,
      "outputs": [
        {
          "output_type": "stream",
          "name": "stdout",
          "text": [
            "Enter no of terms : 5\n",
            "List of square of N numbers :  [0, 1, 4, 9, 16]\n"
          ]
        }
      ]
    },
    {
      "cell_type": "code",
      "source": [
        "c=input(\"Enter a word : \")\n",
        "v_list=[i for i in c if i in \"AEIOUaeiou\"]\n",
        "print(\"List of vowels : \",v_list)\n"
      ],
      "metadata": {
        "colab": {
          "base_uri": "https://localhost:8080/"
        },
        "id": "99zcrC5iN02x",
        "outputId": "85a3df27-31c0-47d2-fe86-a9f2ed28f0e4"
      },
      "execution_count": null,
      "outputs": [
        {
          "output_type": "stream",
          "name": "stdout",
          "text": [
            "Enter a word : Hello\n",
            "List of vowels :  ['e', 'o']\n"
          ]
        }
      ]
    },
    {
      "cell_type": "code",
      "source": [
        "x=input(\"Enter a word : \")\n",
        "o_list=[ord(i) for i in x]\n",
        "print(\"List of ordinal values : \",o_list)"
      ],
      "metadata": {
        "colab": {
          "base_uri": "https://localhost:8080/"
        },
        "id": "svjHkDCEPAh6",
        "outputId": "88bdbf57-ef99-4e4e-a48f-fa34221cf43f"
      },
      "execution_count": null,
      "outputs": [
        {
          "output_type": "stream",
          "name": "stdout",
          "text": [
            "Enter a word : Hello\n",
            "List of ordinal values :  [72, 101, 108, 108, 111]\n"
          ]
        }
      ]
    },
    {
      "cell_type": "markdown",
      "source": [
        "4. Count the occurrences of each word in a line of text."
      ],
      "metadata": {
        "id": "-HlAI_AzwLJP"
      }
    },
    {
      "cell_type": "code",
      "execution_count": null,
      "metadata": {
        "colab": {
          "base_uri": "https://localhost:8080/"
        },
        "id": "VnL4lSRLlOCl",
        "outputId": "23d66817-c768-4d76-a2fd-301b47b958cb"
      },
      "outputs": [
        {
          "output_type": "stream",
          "name": "stdout",
          "text": [
            "Enter a line : hello world this is python programming python is simple and powerful\n",
            "Occurences =  {'hello': 1, 'world': 1, 'this': 1, 'is': 2, 'python': 2, 'programming': 1, 'simple': 1, 'and': 1, 'powerful': 1}\n"
          ]
        }
      ],
      "source": [
        "str=input(\"Enter a line : \")\n",
        "l=[]\n",
        "l=str.split();\n",
        "wc=[l.count(i) for i in l]\n",
        "print(\"Occurences = \",dict(zip(l,wc)))"
      ]
    },
    {
      "cell_type": "markdown",
      "source": [
        "5. Prompt the user for a list of integers. For all values greater than 100, store ‘over’ instead."
      ],
      "metadata": {
        "id": "HNnyZhEiwcKG"
      }
    },
    {
      "cell_type": "code",
      "source": [
        "l=[int(i) for i in input(\"Enter elements : \").split()]\n",
        "new_l=['over' if i>100 else i for i in l]\n",
        "print(\"Result : \",new_l)"
      ],
      "metadata": {
        "colab": {
          "base_uri": "https://localhost:8080/"
        },
        "id": "bl2d_MZAc5vS",
        "outputId": "4a428547-4c04-43e7-c915-365ac7054e98"
      },
      "execution_count": null,
      "outputs": [
        {
          "output_type": "stream",
          "name": "stdout",
          "text": [
            "Enter elements : 50 100 150 200 75\n",
            "Result :  [50, 100, 'over', 'over', 75]\n"
          ]
        }
      ]
    },
    {
      "cell_type": "markdown",
      "source": [
        "6. Store a list of first names. Count the occurrences of ‘a’ within the list"
      ],
      "metadata": {
        "id": "i9n1Ys5yxPif"
      }
    },
    {
      "cell_type": "code",
      "source": [
        "names=[i for i in input(\"Enter the names : \").split()]\n",
        "sm_names=[i.lower() for i in names]\n",
        "for i in sm_names:\n",
        "  print(\"'a' repeats in \",i,i.count('a'),\" times\")"
      ],
      "metadata": {
        "colab": {
          "base_uri": "https://localhost:8080/"
        },
        "id": "kb7fd-szhCGv",
        "outputId": "81c61b75-6a9f-4d41-8788-58eb729df416"
      },
      "execution_count": null,
      "outputs": [
        {
          "output_type": "stream",
          "name": "stdout",
          "text": [
            "Enter the names : Anirudh Suraj Vishwesh Shivani Srinidhi\n",
            "'a' repeats in  anirudh 1  times\n",
            "'a' repeats in  suraj 1  times\n",
            "'a' repeats in  vishwesh 0  times\n",
            "'a' repeats in  shivani 1  times\n",
            "'a' repeats in  srinidhi 0  times\n"
          ]
        }
      ]
    },
    {
      "cell_type": "markdown",
      "source": [
        "7. Enter 2 lists of integers. Check\n",
        "(a) Whether list are of same length\n",
        "(b) whether list sums to same value\n",
        "(c) whether any value occur in both"
      ],
      "metadata": {
        "id": "lZaA7_yWzDo-"
      }
    },
    {
      "cell_type": "code",
      "source": [
        "l1=[]\n",
        "l2=[]\n",
        "n1=int(input(\"Enter the size of list 1 : \"))\n",
        "print(\"Enter list 1 : \")\n",
        "for i in range(n1):\n",
        "  i=int(input())\n",
        "  l1.append(i)\n",
        "n2=int(input(\"Enter the size of list 2 : \"))\n",
        "print(\"Enter list 2 : \")\n",
        "for i in range(n2):\n",
        "  i=int(input())\n",
        "  l2.append(i)\n",
        "\n",
        "if n1==n2:\n",
        "  print(\"Lists are of same length\")\n",
        "else:\n",
        "  print(\"Lists are of diffferent length\")\n",
        "\n",
        "\n",
        "if sum(l1)==sum(l2):\n",
        "  print(\"Sum of lists are of same\")\n",
        "else:\n",
        "  print(\"Sum of lists are diffferent\")\n",
        "\n",
        "res=[i for i in l1 if i in l2]\n",
        "print(\"Common elements : \",res)"
      ],
      "metadata": {
        "colab": {
          "base_uri": "https://localhost:8080/"
        },
        "id": "Ny_-9sHU06aX",
        "outputId": "b42090cf-28c9-4727-998b-4df86ddab1f3"
      },
      "execution_count": null,
      "outputs": [
        {
          "output_type": "stream",
          "name": "stdout",
          "text": [
            "Enter list 1 elements : 10 20 30 40 50\n",
            "Enter list 1 elements : 10 25 30 45 50\n",
            "Lists are of same length\n",
            "Sum of lists are diffferent\n",
            "Common elements :  [10, 30, 50]\n"
          ]
        }
      ]
    },
    {
      "cell_type": "code",
      "source": [
        "l1=[int(i) for i in input(\"Enter list 1 elements : \").split()]\n",
        "l2=[int(i) for i in input(\"Enter list 1 elements : \").split()]\n",
        "\n",
        "if len(l1)==len(l2):\n",
        "  print(\"Lists are of same length\")\n",
        "else:\n",
        "  print(\"Lists are of diffferent length\")\n",
        "\n",
        "\n",
        "if sum(l1)==sum(l2):\n",
        "  print(\"Sum of lists are of same\")\n",
        "else:\n",
        "  print(\"Sum of lists are diffferent\")\n",
        "\n",
        "res=[i for i in l1 if i in l2]\n",
        "print(\"Common elements : \",res)"
      ],
      "metadata": {
        "colab": {
          "base_uri": "https://localhost:8080/"
        },
        "id": "W2zVAnBmCEQE",
        "outputId": "6fbf7cbd-a913-4015-e70d-bb69e5f75ad6"
      },
      "execution_count": null,
      "outputs": [
        {
          "output_type": "stream",
          "name": "stdout",
          "text": [
            "Enter list 1 elements : 10 20 30 40 50\n",
            "Enter list 1 elements : 10 25 30 45 50\n",
            "Lists are of same length\n",
            "Sum of lists are diffferent\n",
            "Common elements :  [10, 30, 50]\n"
          ]
        }
      ]
    },
    {
      "cell_type": "code",
      "source": [
        "\n",
        "n1=int(input(\"Enter the size of list 1 : \"))\n",
        "print(\"Enter list 1 : \")\n",
        "l1=[int(input()) for i in range(n1)]\n",
        "\n",
        "n2=int(input(\"Enter the size of list 2 : \"))\n",
        "print(\"Enter list 2 : \")\n",
        "l2=[int(input()) for i in range(n2)]\n",
        "\n",
        "if n1==n2:\n",
        "  print(\"Lists are of same length\")\n",
        "else:\n",
        "  print(\"Lists are of diffferent length\")\n",
        "\n",
        "\n",
        "if sum(l1)==sum(l2):\n",
        "  print(\"Sum of lists are of same\")\n",
        "else:\n",
        "  print(\"Sum of lists are diffferent\")\n",
        "\n",
        "res=[i for i in l1 if i in l2]\n",
        "print(\"Common elements : \",res)"
      ],
      "metadata": {
        "colab": {
          "base_uri": "https://localhost:8080/"
        },
        "outputId": "66b04184-60da-4ec3-e395-2be7734a289b",
        "id": "Eu0iUnV8o6bV"
      },
      "execution_count": null,
      "outputs": [
        {
          "output_type": "stream",
          "name": "stdout",
          "text": [
            "Enter the size of list 1 : 5\n",
            "Enter list 1 : \n",
            "10\n",
            "20\n",
            "30\n",
            "40\n",
            "50\n",
            "Enter the size of list 2 : 5\n",
            "Enter list 2 : \n",
            "10\n",
            "25\n",
            "30\n",
            "45\n",
            "50\n",
            "Lists are of same length\n",
            "Sum of lists are diffferent\n",
            "Common elements :  [10, 30, 50]\n"
          ]
        }
      ]
    },
    {
      "cell_type": "code",
      "source": [
        "l2=[int(input()) for i in range(5)]\n",
        "l2"
      ],
      "metadata": {
        "colab": {
          "base_uri": "https://localhost:8080/"
        },
        "id": "km3J1u0alP--",
        "outputId": "d3bbdbcf-3b11-48ff-f1d8-57d7c22709c6"
      },
      "execution_count": null,
      "outputs": [
        {
          "name": "stdout",
          "output_type": "stream",
          "text": [
            "12\n",
            "12\n",
            "12\n",
            "12\n",
            "2\n"
          ]
        },
        {
          "output_type": "execute_result",
          "data": {
            "text/plain": [
              "[12, 12, 12, 12, 2]"
            ]
          },
          "metadata": {},
          "execution_count": 19
        }
      ]
    },
    {
      "cell_type": "markdown",
      "source": [
        "8. Get a string from an input string where all occurrences of first character replaced with ‘$’, except first character. [eg: onion -> oni$n]"
      ],
      "metadata": {
        "id": "E4Io4ZXnVO_y"
      }
    },
    {
      "cell_type": "code",
      "source": [
        "str1=input(\"Enter a word : \")\n",
        "f_c=str1[0]\n",
        "str1=str1.replace(f_c,'$')\n",
        "str1=f_c+str1[1:]\n",
        "print(\"Replaced string : \",str1)\n"
      ],
      "metadata": {
        "colab": {
          "base_uri": "https://localhost:8080/"
        },
        "id": "wdPzlO96HoiY",
        "outputId": "5c125486-b5b8-411c-e634-2d581c2dc424"
      },
      "execution_count": null,
      "outputs": [
        {
          "output_type": "stream",
          "name": "stdout",
          "text": [
            "Enter a word : anirudhjbhatt\n",
            "Replaced string :  anirudhjbh$tt\n"
          ]
        }
      ]
    },
    {
      "cell_type": "markdown",
      "source": [
        "9. Create a string from given string where first and last characters exchanged. [eg: python -> nythop]\n"
      ],
      "metadata": {
        "id": "LTSIvfMeViyh"
      }
    },
    {
      "cell_type": "code",
      "source": [
        "name=input(\"Enter a name : \")\n",
        "print(\"Result :\",name[-1]+name[1:-1]+name[0])"
      ],
      "metadata": {
        "colab": {
          "base_uri": "https://localhost:8080/"
        },
        "id": "2cznKRqIOWJ4",
        "outputId": "bdec1c0f-3b95-49f3-aad4-e3c346b1c310"
      },
      "execution_count": null,
      "outputs": [
        {
          "output_type": "stream",
          "name": "stdout",
          "text": [
            "Enter a name : Anirudh\n",
            "Result : hnirudA\n"
          ]
        }
      ]
    },
    {
      "cell_type": "markdown",
      "source": [
        "10. Accept the radius from user and find area of circle."
      ],
      "metadata": {
        "id": "qf5-ptwKAW_5"
      }
    },
    {
      "cell_type": "code",
      "source": [
        "r=float(input(\"Enter the radius : \"))\n",
        "print(\"Area : \",3.14*r*r)"
      ],
      "metadata": {
        "colab": {
          "base_uri": "https://localhost:8080/"
        },
        "id": "mI21XnPYE1gm",
        "outputId": "1cf942cf-90c6-4e25-c74e-ca95a9b13d3f"
      },
      "execution_count": null,
      "outputs": [
        {
          "output_type": "stream",
          "name": "stdout",
          "text": [
            "Enter the radius : 100\n",
            "Area :  31400.0\n"
          ]
        }
      ]
    },
    {
      "cell_type": "markdown",
      "source": [
        "11. Find biggest of 3 numbers entered."
      ],
      "metadata": {
        "id": "w7vEL8qrAZaP"
      }
    },
    {
      "cell_type": "code",
      "source": [
        "a=int(input(\"Enter the first number : \"))\n",
        "b=int(input(\"Enter the second number : \"))\n",
        "c=int(input(\"Enter the third number : \"))\n",
        "if a>b and a>c:\n",
        "  print(a, \"is the largest number\")\n",
        "elif b>a and b>c:\n",
        "  print(b, \"is the largest number\")\n",
        "else:\n",
        "  print(c, \"is the largest number\")"
      ],
      "metadata": {
        "colab": {
          "base_uri": "https://localhost:8080/"
        },
        "id": "sKT9LiRoFUFH",
        "outputId": "841040db-d1b2-4c11-b986-8e1447448208"
      },
      "execution_count": null,
      "outputs": [
        {
          "output_type": "stream",
          "name": "stdout",
          "text": [
            "Enter the first number : 10\n",
            "Enter the second number : 20\n",
            "Enter the third number : 30\n",
            "30 is the largest number\n"
          ]
        }
      ]
    },
    {
      "cell_type": "code",
      "source": [
        "a=int(input(\"Enter the first number : \"))\n",
        "b=int(input(\"Enter the second number : \"))\n",
        "c=int(input(\"Enter the third number : \"))\n",
        "print(\"Largest number is : \",max(a,b,c))"
      ],
      "metadata": {
        "colab": {
          "base_uri": "https://localhost:8080/"
        },
        "outputId": "ea8b54d3-81b2-4cd4-8b31-110464b06feb",
        "id": "WkmZEzwyF2Gj"
      },
      "execution_count": null,
      "outputs": [
        {
          "output_type": "stream",
          "name": "stdout",
          "text": [
            "Enter the first number : 10\n",
            "Enter the second number : 20\n",
            "Enter the third number : 30\n",
            "Largest number is :  30\n"
          ]
        }
      ]
    },
    {
      "cell_type": "markdown",
      "source": [
        "12. Accept a file name from user and print extension of that"
      ],
      "metadata": {
        "id": "ga9y6_TQV7Yl"
      }
    },
    {
      "cell_type": "code",
      "source": [
        "f_name=input(\"Enter a filename : \")\n",
        "f_ext=f_name.split(\".\")\n",
        "print(\"Extension : \",f_ext[-1])"
      ],
      "metadata": {
        "colab": {
          "base_uri": "https://localhost:8080/"
        },
        "id": "eXE9WjeMvi_z",
        "outputId": "0ba78d82-e36c-462b-b86f-d1d079dfcd06"
      },
      "execution_count": null,
      "outputs": [
        {
          "output_type": "stream",
          "name": "stdout",
          "text": [
            "Enter a filename : PGM12.py\n",
            "Extension :  py\n"
          ]
        }
      ]
    },
    {
      "cell_type": "markdown",
      "source": [
        "13. Create a list of colors from comma-separated color names entered by user. Display first and last colors.\n"
      ],
      "metadata": {
        "id": "7-RbOA1XWF4A"
      }
    },
    {
      "cell_type": "code",
      "source": [
        "n=int(input(\"Enter the size of the list : \"))\n",
        "colors=[input() for i in range(n)]\n",
        "print(\"First color : \",colors[0],\" Last color : \",colors[-1])"
      ],
      "metadata": {
        "colab": {
          "base_uri": "https://localhost:8080/"
        },
        "id": "FjPa3babWMk5",
        "outputId": "deaf1556-5c26-4dd8-83a0-7999ae7daa83"
      },
      "execution_count": null,
      "outputs": [
        {
          "output_type": "stream",
          "name": "stdout",
          "text": [
            "Enter the size of the list : 5\n",
            "Red\n",
            "Yellow\n",
            "Green\n",
            "Violet\n",
            "Pink\n",
            "First color :  Red  Last color :  Pink\n"
          ]
        }
      ]
    },
    {
      "cell_type": "code",
      "source": [
        "colors=[i for i in input(\"Enter the colors : \").split()]\n",
        "print(\"First color : \",colors[0],\"\\nLast color : \",colors[-1])"
      ],
      "metadata": {
        "colab": {
          "base_uri": "https://localhost:8080/"
        },
        "outputId": "42c41801-2410-49d3-b96e-aca46e4ff563",
        "id": "n-xk8IjxChvO"
      },
      "execution_count": null,
      "outputs": [
        {
          "output_type": "stream",
          "name": "stdout",
          "text": [
            "Enter the colors : Red Yellow Green Blue Violet\n",
            "First color :  Red \n",
            "Last color :  Violet\n"
          ]
        }
      ]
    },
    {
      "cell_type": "markdown",
      "source": [
        "14. Accept an integer n and compute n+nn+nnn"
      ],
      "metadata": {
        "id": "nbTCCrIQWqh7"
      }
    },
    {
      "cell_type": "code",
      "source": [
        "n=3\n",
        "s=n+n*11+n*111\n",
        "s"
      ],
      "metadata": {
        "colab": {
          "base_uri": "https://localhost:8080/"
        },
        "id": "o2ZYgA91rw_d",
        "outputId": "45f03db9-4c72-4209-e4be-cc7719462c30"
      },
      "execution_count": null,
      "outputs": [
        {
          "output_type": "execute_result",
          "data": {
            "text/plain": [
              "369"
            ]
          },
          "metadata": {},
          "execution_count": 36
        }
      ]
    },
    {
      "cell_type": "code",
      "source": [
        "n=int(input(\"Enter a number : \"))\n",
        "print(n+n*n+n*n*n)"
      ],
      "metadata": {
        "colab": {
          "base_uri": "https://localhost:8080/"
        },
        "id": "ZM9H0XdIPnCG",
        "outputId": "4d104633-b824-451e-eabf-7bd1df20f245"
      },
      "execution_count": null,
      "outputs": [
        {
          "output_type": "stream",
          "name": "stdout",
          "text": [
            "Enter a number : 3\n",
            "39\n"
          ]
        }
      ]
    },
    {
      "cell_type": "code",
      "source": [
        "n=int(input(\"Enter a number : \"))\n",
        "print(\"Result :\",n+n*11+n*111)"
      ],
      "metadata": {
        "colab": {
          "base_uri": "https://localhost:8080/"
        },
        "outputId": "405e021a-62c1-4edc-d41e-60f47c11e7db",
        "id": "Yz1pWf0HHChP"
      },
      "execution_count": null,
      "outputs": [
        {
          "output_type": "stream",
          "name": "stdout",
          "text": [
            "Enter a number : 5\n",
            "Result :  615\n"
          ]
        }
      ]
    },
    {
      "cell_type": "markdown",
      "source": [
        "15. Print out all colors from color-list1 not contained in color-list2"
      ],
      "metadata": {
        "id": "GIFXzfjQW4mI"
      }
    },
    {
      "cell_type": "code",
      "source": [
        "c1=[i for i in input(\"Enter the colors list 1 : \").split()]\n",
        "c2=[i for i in input(\"Enter the colors list 2: \").split()]\n",
        "res=[i for i in c2 if i not in c1]\n",
        "print(\"Colors from color-list 1 not in colo-list 2 : \",res)"
      ],
      "metadata": {
        "colab": {
          "base_uri": "https://localhost:8080/"
        },
        "id": "t6iUR2jAW9HL",
        "outputId": "a539c6a8-bb99-4f15-f806-20321b8db75d"
      },
      "execution_count": null,
      "outputs": [
        {
          "output_type": "stream",
          "name": "stdout",
          "text": [
            "Enter the colors list 1 : Red Yellow Green Blue Violet\n",
            "Enter the colors list 2: Red Pink Green Magenta Violet\n",
            "Colors from color-list 1 not in colo-list 2 :  ['Pink', 'Magenta']\n"
          ]
        }
      ]
    },
    {
      "cell_type": "markdown",
      "source": [
        "16. Create a single string separated with space from two strings by swapping the character at position 1."
      ],
      "metadata": {
        "id": "A8VJ9SQWX7tw"
      }
    },
    {
      "cell_type": "code",
      "source": [
        "s1=input(\"Enter string 1 : \")\n",
        "s2=input(\"Enter string 2 : \")\n",
        "s3=s2[0]+s1[1:]+\" \"+s1[0]+s2[1:]\n",
        "print(\"Swapped string :\",s3)"
      ],
      "metadata": {
        "id": "rQD0p2bfbAT1",
        "colab": {
          "base_uri": "https://localhost:8080/"
        },
        "outputId": "12a33e07-8feb-4ac5-c29d-538b8f1132c9"
      },
      "execution_count": null,
      "outputs": [
        {
          "output_type": "stream",
          "name": "stdout",
          "text": [
            "Enter string 1 : Hello\n",
            "Enter string 2 : World\n",
            "Swapped string : Wello Horld\n"
          ]
        }
      ]
    },
    {
      "cell_type": "markdown",
      "source": [
        "17. Sort dictionary in ascending and descending order."
      ],
      "metadata": {
        "id": "Oc1k-cqNkS6T"
      }
    },
    {
      "cell_type": "code",
      "source": [
        "d = {'Anirudh': 10, 'Shivani': 20,'Srinidhi': 30, 'Aryan': 40, 'Suraj': 50}\n",
        "print(\"Ascending order : \",dict(sorted(d.items())))\n",
        "print(\"Descending order : \",dict(sorted(d.items(), reverse=True)))\n"
      ],
      "metadata": {
        "colab": {
          "base_uri": "https://localhost:8080/"
        },
        "id": "Zny73k3VwWON",
        "outputId": "4cf938c2-9e21-472c-a3f9-b0091e813a79"
      },
      "execution_count": null,
      "outputs": [
        {
          "output_type": "stream",
          "name": "stdout",
          "text": [
            "Ascending order :  {'Anirudh': 10, 'Aryan': 40, 'Shivani': 20, 'Srinidhi': 30, 'Suraj': 50}\n",
            "Descending order :  {'Suraj': 50, 'Srinidhi': 30, 'Shivani': 20, 'Aryan': 40, 'Anirudh': 10}\n"
          ]
        }
      ]
    },
    {
      "cell_type": "markdown",
      "source": [
        "18. Merge two dictionaries."
      ],
      "metadata": {
        "id": "oBmAEvm8lXhV"
      }
    },
    {
      "cell_type": "code",
      "source": [
        "d1 = {'Anirudh': 10,'Vishwesh': 20, 'Suraj': 30}\n",
        "d2 = {'Shivani': 20,'Srinidhi': 40, 'Saubhagya': 50}\n",
        "print(\"Merged dictionaries :\",d1|d2)"
      ],
      "metadata": {
        "colab": {
          "base_uri": "https://localhost:8080/"
        },
        "outputId": "5eb6c20e-6d90-4b65-ed37-42e6c46366ca",
        "id": "QKewRorLleS9"
      },
      "execution_count": null,
      "outputs": [
        {
          "output_type": "stream",
          "name": "stdout",
          "text": [
            "Merged dictionaries : {'Anirudh': 10, 'Vishwesh': 20, 'Suraj': 30, 'Shivani': 20, 'Srinidhi': 40, 'Saubhagya': 50}\n"
          ]
        }
      ]
    },
    {
      "cell_type": "markdown",
      "source": [
        "19. Find gcd of 2 numbers."
      ],
      "metadata": {
        "id": "_yvZER2-mCAK"
      }
    },
    {
      "cell_type": "code",
      "source": [
        "import math\n",
        "x=int(input(\"Enter the first number : \"))\n",
        "y=int(input(\"Enter the second number : \"))\n",
        "print(\"GCD : \",math.gcd(x,y))"
      ],
      "metadata": {
        "colab": {
          "base_uri": "https://localhost:8080/"
        },
        "id": "NVhNHhh6mDUH",
        "outputId": "d6d989b1-c99e-462d-b4e7-af1d9a4118fb"
      },
      "execution_count": null,
      "outputs": [
        {
          "output_type": "stream",
          "name": "stdout",
          "text": [
            "Enter the first number : 10\n",
            "Enter the second number : 20\n",
            "GCD :  10\n"
          ]
        }
      ]
    },
    {
      "cell_type": "markdown",
      "source": [
        "20. From a list of integers, create a list removing even numbers."
      ],
      "metadata": {
        "id": "zCxlw-iXmlv9"
      }
    },
    {
      "cell_type": "code",
      "source": [
        "l=[int(i) for i in input(\"Enter integers : \").split()]\n",
        "\n",
        "# for i in l:\n",
        "#   if i%2==0:\n",
        "#     l.remove(i)\n",
        "l=[i for i in l if i%2!=0]\n",
        "print(\"List after removal of even numbers : \",l)"
      ],
      "metadata": {
        "colab": {
          "base_uri": "https://localhost:8080/"
        },
        "id": "QCbIKsbBmpTX",
        "outputId": "e715a05f-1105-42e1-abe8-c72fbd8c596f"
      },
      "execution_count": null,
      "outputs": [
        {
          "output_type": "stream",
          "name": "stdout",
          "text": [
            "Enter integers : 1 2 3 4 5 6 7 8 9 10\n",
            "List after removal of even numbers :  [1, 3, 5, 7, 9]\n"
          ]
        }
      ]
    },
    {
      "cell_type": "markdown",
      "source": [
        "CO2"
      ],
      "metadata": {
        "id": "HQkRDr_UPPli"
      }
    },
    {
      "cell_type": "markdown",
      "source": [
        "1. Program to find the factorial of a number"
      ],
      "metadata": {
        "id": "_lxKoND-AebI"
      }
    },
    {
      "cell_type": "code",
      "source": [
        "def fact(x):\n",
        "  if x==1:\n",
        "    return 1\n",
        "  else:\n",
        "    return x*fact(x-1)\n",
        "x=int(input(\"Enter the number : \"))\n",
        "print(\"Factorial : \",fact(x))"
      ],
      "metadata": {
        "colab": {
          "base_uri": "https://localhost:8080/"
        },
        "id": "W4AiXGixGUPu",
        "outputId": "cd31d7ba-081f-4df1-8fc4-7419c12a757d"
      },
      "execution_count": null,
      "outputs": [
        {
          "output_type": "stream",
          "name": "stdout",
          "text": [
            "Enter the number : 5\n",
            "Factorial :  120\n"
          ]
        }
      ]
    },
    {
      "cell_type": "markdown",
      "source": [
        "2. Generate Fibonacci series of N terms"
      ],
      "metadata": {
        "id": "22Q8r_GZAgn_"
      }
    },
    {
      "cell_type": "code",
      "source": [
        "n=int(input(\"Enter the no of terms : \"))\n",
        "a=0\n",
        "b=1\n",
        "c=a+b\n",
        "print(\"Fibonacci series : \",a,b,c,end=\" \")\n",
        "for i in range(3,n):\n",
        "  a=b\n",
        "  b=c\n",
        "  c=a+b\n",
        "  print(c,end=\" \")"
      ],
      "metadata": {
        "colab": {
          "base_uri": "https://localhost:8080/"
        },
        "id": "igF70KSTIGge",
        "outputId": "fdf1b4ff-def2-4158-9e9a-3b9ab630b64a"
      },
      "execution_count": null,
      "outputs": [
        {
          "output_type": "stream",
          "name": "stdout",
          "text": [
            "Enter the no of terms : 5\n",
            "Fibonacci series :  0 1 1 2 3 "
          ]
        }
      ]
    },
    {
      "cell_type": "markdown",
      "source": [
        "3. Find the sum of all items in a list"
      ],
      "metadata": {
        "id": "RMkbKgEvopqm"
      }
    },
    {
      "cell_type": "code",
      "source": [
        "l=[int(i) for i in input(\"Enter elements : \").split()]\n",
        "print(\"Sum of elements : \",sum(l))"
      ],
      "metadata": {
        "colab": {
          "base_uri": "https://localhost:8080/"
        },
        "id": "zafS4Hk-oroP",
        "outputId": "a0dc6a72-b5ad-4663-919f-f3cf604eb60b"
      },
      "execution_count": null,
      "outputs": [
        {
          "output_type": "stream",
          "name": "stdout",
          "text": [
            "Enter elements : 10 20 30 40 50\n",
            "Sum of elements :  150\n"
          ]
        }
      ]
    },
    {
      "cell_type": "markdown",
      "source": [
        "\n",
        "4. Generate a list of four digit numbers in a given range with all their digits even and the number is a perfect square."
      ],
      "metadata": {
        "id": "rUdQjkSwpX4o"
      }
    },
    {
      "cell_type": "code",
      "source": [
        "res=[]\n",
        "for i in range(1000,10000):\n",
        "    if all(int(x)%2==0 for x in str(i)):\n",
        "        if int(i**0.5)**2==i:\n",
        "            res.append(i)\n",
        "print(\"List of numbers : \",res)"
      ],
      "metadata": {
        "id": "Rp7iCKfFpZhk",
        "colab": {
          "base_uri": "https://localhost:8080/"
        },
        "outputId": "40234de7-8dbe-433f-c308-597f109c31ab"
      },
      "execution_count": null,
      "outputs": [
        {
          "output_type": "stream",
          "name": "stdout",
          "text": [
            "List of numbers :  [4624, 6084, 6400, 8464]\n"
          ]
        }
      ]
    },
    {
      "cell_type": "markdown",
      "source": [
        "5. Display the given pyramid with step number accepted from user.\n",
        "\n",
        "Eg: N=4\n",
        "\n",
        "1\n",
        "\n",
        "2 4\n",
        "\n",
        "3 6 9\n",
        "\n",
        "4 8 12 16"
      ],
      "metadata": {
        "id": "IJ__fwsBAjln"
      }
    },
    {
      "cell_type": "code",
      "source": [
        "n=int(input(\"Enter the no of rows : \"))\n",
        "for i in range(1,n+1):\n",
        "  for j in range(1,i+1):\n",
        "    print(i*j,end=\" \")\n",
        "  print()"
      ],
      "metadata": {
        "colab": {
          "base_uri": "https://localhost:8080/"
        },
        "id": "vvW1oMMPJvF0",
        "outputId": "8f2ba672-b917-4651-d885-79722e4cbb9b"
      },
      "execution_count": null,
      "outputs": [
        {
          "output_type": "stream",
          "name": "stdout",
          "text": [
            "Enter the no of rows : 4\n",
            "1 \n",
            "2 4 \n",
            "3 6 9 \n",
            "4 8 12 16 \n"
          ]
        }
      ]
    },
    {
      "cell_type": "markdown",
      "source": [
        "6. Count the number of characters (character frequency) in a string."
      ],
      "metadata": {
        "id": "jIQlYS_0GEQt"
      }
    },
    {
      "cell_type": "code",
      "execution_count": null,
      "metadata": {
        "colab": {
          "base_uri": "https://localhost:8080/"
        },
        "outputId": "5fbf0237-319e-4511-e5dc-17af531c2f36",
        "id": "kVNTGbJ2GwkK"
      },
      "outputs": [
        {
          "name": "stdout",
          "output_type": "stream",
          "text": [
            "Enter a line : Hello world this is python programming  python is simple\n",
            "{'Hello': 1, 'world': 1, 'this': 1, 'is': 2, 'python': 2, 'programming': 1, 'simple': 1}\n"
          ]
        }
      ],
      "source": [
        "str=input(\"Enter a string : \")\n",
        "l=[]\n",
        "l=str.split();\n",
        "wc=[l.count(i) for i in l]\n",
        "print(dict(zip(l,wc)))"
      ]
    },
    {
      "cell_type": "code",
      "execution_count": null,
      "metadata": {
        "colab": {
          "base_uri": "https://localhost:8080/"
        },
        "outputId": "fe24c8d2-22f5-4fe7-f528-00895effdc0d",
        "id": "hWypsKDbXe21"
      },
      "outputs": [
        {
          "output_type": "stream",
          "name": "stdout",
          "text": [
            "Enter a string : Muthoot Institute of Technology and Science\n",
            "{'M': 1, 'u': 2, 't': 5, 'h': 2, 'o': 5, ' ': 5, 'I': 1, 'n': 4, 's': 1, 'i': 2, 'e': 4, 'f': 1, 'T': 1, 'c': 3, 'l': 1, 'g': 1, 'y': 1, 'a': 1, 'd': 1, 'S': 1}\n"
          ]
        }
      ],
      "source": [
        "str1=input(\"Enter a string : \")\n",
        "wc=[str1.count(i) for i in str1]\n",
        "print(dict(zip(str1,wc)))"
      ]
    },
    {
      "cell_type": "markdown",
      "source": [
        "7. Add ‘ing’ at the end of a given string. If it already ends with ‘ing’, then add ‘ly’"
      ],
      "metadata": {
        "id": "3FXe8-zQF69f"
      }
    },
    {
      "cell_type": "code",
      "source": [
        "str1=input(\"Enter a string : \")\n",
        "if str1.endswith('ing'):\n",
        "  str2=str1+'ly'\n",
        "else:\n",
        "  str2=str1+'ing'\n",
        "print(\"String :\",str2)"
      ],
      "metadata": {
        "colab": {
          "base_uri": "https://localhost:8080/"
        },
        "id": "vn6c2eeckVwj",
        "outputId": "a222c24f-a71b-4dfe-a62b-07116d6d9ee6"
      },
      "execution_count": null,
      "outputs": [
        {
          "output_type": "stream",
          "name": "stdout",
          "text": [
            "Enter a string : String\n",
            "String : Stringly\n"
          ]
        }
      ]
    },
    {
      "cell_type": "markdown",
      "source": [
        "8. Accept a list of words and return length of longest word.\n",
        "\n"
      ],
      "metadata": {
        "id": "CcORMH0aDm4I"
      }
    },
    {
      "cell_type": "code",
      "source": [
        "# n=int(input(\"Enter the size of the list : \"))\n",
        "# print(\"Enter list : \")\n",
        "# a=[input() for i in range(n)]\n",
        "l=[i for i in input(\"Enter the words : \").split()]\n",
        "\n",
        "max=len(l[0])\n",
        "temp=l[0]\n",
        "for i in l:\n",
        "  if len(i)>max:\n",
        "    max=len(i)\n",
        "    temp=i\n",
        "print(\"Word with max length is\",temp,\"It's length is\",max)"
      ],
      "metadata": {
        "colab": {
          "base_uri": "https://localhost:8080/"
        },
        "id": "Zn22l3Avl9uy",
        "outputId": "d0da8eb9-2155-4893-c432-6205bdf0873a"
      },
      "execution_count": null,
      "outputs": [
        {
          "output_type": "stream",
          "name": "stdout",
          "text": [
            "Enter the words : Anirudh Vishwesh Suraj Shivani Srinidhi\n",
            "Word with max length is Vishwesh It's length is 8\n"
          ]
        }
      ]
    },
    {
      "cell_type": "markdown",
      "source": [
        "9. Construct following pattern using nested loop\n",
        "\n",
        "*\n",
        "* *\n",
        "* * *\n",
        "* * * *\n",
        "* * * * *\n",
        "* * * *\n",
        "* * *\n",
        "* *\n",
        "*"
      ],
      "metadata": {
        "id": "dsEmjRFGA6ZX"
      }
    },
    {
      "cell_type": "code",
      "source": [
        "n=int(input(\"Enter the no of rows : \"))\n",
        "for i in range(1,n+1):\n",
        "  print('*'*i)\n",
        "for i in range(n-1,0,-1):\n",
        "  print('*'*i)"
      ],
      "metadata": {
        "colab": {
          "base_uri": "https://localhost:8080/"
        },
        "id": "dI7QcVX1QjbA",
        "outputId": "95f9203b-bfa1-47a6-a12c-6b862e72f456"
      },
      "execution_count": null,
      "outputs": [
        {
          "output_type": "stream",
          "name": "stdout",
          "text": [
            "Enter the no of rows : 5\n",
            "*\n",
            "**\n",
            "***\n",
            "****\n",
            "*****\n",
            "****\n",
            "***\n",
            "**\n",
            "*\n"
          ]
        }
      ]
    },
    {
      "cell_type": "code",
      "source": [
        "n=int(input(\"Enter the no of rows : \"))\n",
        "for i in range(n):\n",
        "  for j in range(i+1):\n",
        "    print(\"*\", end=\" \")\n",
        "  print(\"\\n\")\n",
        "\n",
        "for i in range(n-1,0,-1):\n",
        "   for j in range(0,i):\n",
        "     print(\"*\", end=\" \")\n",
        "   print(\"\\n\")"
      ],
      "metadata": {
        "colab": {
          "base_uri": "https://localhost:8080/"
        },
        "id": "IoVm7bYbMJRr",
        "outputId": "dc466616-66fd-46b6-9009-04e7f34004ee"
      },
      "execution_count": null,
      "outputs": [
        {
          "output_type": "stream",
          "name": "stdout",
          "text": [
            "Enter the no of rows : 5\n",
            "* \n",
            "\n",
            "* * \n",
            "\n",
            "* * * \n",
            "\n",
            "* * * * \n",
            "\n",
            "* * * * * \n",
            "\n",
            "* * * * \n",
            "\n",
            "* * * \n",
            "\n",
            "* * \n",
            "\n",
            "* \n",
            "\n"
          ]
        }
      ]
    },
    {
      "cell_type": "markdown",
      "source": [
        "10. Generate all factors of a number."
      ],
      "metadata": {
        "id": "BpsvZ6gHBDVl"
      }
    },
    {
      "cell_type": "code",
      "source": [
        "def facts(x):\n",
        "  print(\"Factors of \",x,\" are : \",end=\" \")\n",
        "  for i in range(1,x+1):\n",
        "    if(x%i==0):\n",
        "      print(i,end=\" \")\n",
        "n=int(input(\"Enter a number : \"))\n",
        "facts(n)"
      ],
      "metadata": {
        "colab": {
          "base_uri": "https://localhost:8080/"
        },
        "id": "HVW-x1aAN0Dl",
        "outputId": "cae90086-1dce-485d-c447-ccb8828e7b26"
      },
      "execution_count": null,
      "outputs": [
        {
          "output_type": "stream",
          "name": "stdout",
          "text": [
            "Enter a number : 5\n",
            "Factors of  5  are :  1 5 "
          ]
        }
      ]
    },
    {
      "cell_type": "markdown",
      "source": [
        "11. Write lambda functions to find area of square, rectangle and triangle."
      ],
      "metadata": {
        "id": "GCkDDuEbE88P"
      }
    },
    {
      "cell_type": "code",
      "source": [
        "area1=lambda a: a*a\n",
        "area2=lambda l,b: l*b\n",
        "area3=lambda b,h: 0.5*(b*h)\n",
        "\n",
        "s=int(input(\"Enter the side of square : \"))\n",
        "print(\"Area of square : \",area1(s))\n",
        "\n",
        "l=int(input(\"Enter the length of rectangle : \"))\n",
        "b=int(input(\"Enter the breadth of rectangle : \"))\n",
        "print(\"Area of rectangle : \",area2(l,b))\n",
        "\n",
        "b=int(input(\"Enter the base of triangle : \"))\n",
        "h=int(input(\"Enter the height of triangle : \"))\n",
        "print(\"Area of triangle : \",area3(b,h))"
      ],
      "metadata": {
        "colab": {
          "base_uri": "https://localhost:8080/"
        },
        "id": "fAUMsVOqpNai",
        "outputId": "8196645b-5f62-4f83-e0d1-99563147ae9c"
      },
      "execution_count": null,
      "outputs": [
        {
          "output_type": "stream",
          "name": "stdout",
          "text": [
            "Enter the side of square : 5\n",
            "Area of square :  25\n",
            "Enter the length of rectangle : 10\n",
            "Enter the breadth of rectangle : 20\n",
            "Area of rectangle :  200\n",
            "Enter the base of triangle : 10\n",
            "Enter the height of triangle : 20\n",
            "Area of triangle :  100.0\n"
          ]
        }
      ]
    },
    {
      "cell_type": "code",
      "source": [
        "l=[int(i) for i in input(\"Enter elements : \").split()]\n",
        "print(l)"
      ],
      "metadata": {
        "colab": {
          "base_uri": "https://localhost:8080/"
        },
        "id": "4KEQQ6xG_L9G",
        "outputId": "2a0602ff-1d74-45f0-c4f0-a7bd31d9d6cb"
      },
      "execution_count": null,
      "outputs": [
        {
          "output_type": "stream",
          "name": "stdout",
          "text": [
            "Enter elements : 1 2 3 4 5 6 7 8 9 10\n",
            "[1, 2, 3, 4, 5, 6, 7, 8, 9, 10]\n"
          ]
        }
      ]
    }
  ]
}